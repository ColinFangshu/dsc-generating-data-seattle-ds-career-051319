{
 "cells": [
  {
   "cell_type": "markdown",
   "metadata": {},
   "source": [
    "# Generating Data - Codealong"
   ]
  },
  {
   "cell_type": "markdown",
   "metadata": {},
   "source": [
    "## Introduction\n",
    "Data analysis often require analysts to test the efficiency/performance of an algorithm with a certain type of data. In such cases, the focus is not to answer some analytical question as we have seen earlier, but to test some machine learning hypothesis dealing with , say, comparing two different algorithms to see which one gives a higher level of accuracy. In such cases, the analysts would normally deal with synthetic random data which they generate themselves. This lab and upcoming lesson will highlight some data generation techniques that you can use later to learn new algorithms while not indulging too much into the domain knowledge.  "
   ]
  },
  {
   "cell_type": "markdown",
   "metadata": {},
   "source": [
    "## Objectives\n",
    "You will be able to :\n",
    "\n",
    "* Generate datasets for classification problems \n",
    "* Generate datasets for regression problems "
   ]
  },
  {
   "cell_type": "markdown",
   "metadata": {},
   "source": [
    "## Practice Datasets\n",
    "\n",
    "Practice datasets reflect simple problems that allowing testing and debugging of the algorithms and test its robustness. They are also used for understanding the behavior of algorithms in response to changes in model parameters as we shall see with some ML algorithms. Following are some of the reasons why such datasets are preferred over real world datasets:\n",
    "- Quick and Easy generation - save data collection time  and efforts\n",
    "- Predictable outcomes - have a higher degree of confidence in the result\n",
    "- Randomization - datasets can be randomized repeatedly to inspect performance in multiple cases\n",
    "- Simple data types - easier to visualize data and outcomes\n",
    "\n",
    "In this lesson, we shall cover some of the python functions that can help us generate random datasets. "
   ]
  },
  {
   "cell_type": "markdown",
   "metadata": {},
   "source": [
    "## `make_blobs()`"
   ]
  },
  {
   "cell_type": "markdown",
   "metadata": {},
   "source": [
    "Official doc. for this function can be found [HERE](https://scikit-learn.org/stable/modules/generated/sklearn.datasets.make_blobs.html). This function generates isotropic Gaussian blobs for clustering and classification problems, similar to the ones we earlier saw with Naive Bayes Algorithm. We can control how many blobs to generate and the number of samples to generate, as well as a host of other properties. Let's see how to import this in python environment. \n",
    "```python\n",
    "from sklearn.datasets.samples_generator import make_blobs\n",
    "```"
   ]
  },
  {
   "cell_type": "code",
   "execution_count": 1,
   "metadata": {},
   "outputs": [],
   "source": [
    "# Code here \n",
    "\n",
    "# Import other libs.\n",
    "import matplotlib.pyplot as plt\n",
    "import pandas as pd\n",
    "from sklearn.datasets.samples_generator import make_blobs"
   ]
  },
  {
   "cell_type": "markdown",
   "metadata": {},
   "source": [
    "Let's now generate a 2D dataset of samples with three blobs as a multi-class classification prediction problem. Each observation will have two inputs and 0, 1, or 2 class values.\n",
    "\n",
    "```python\n",
    "X, y = make_blobs(n_samples=100, centers=3, n_features=2)\n",
    "```"
   ]
  },
  {
   "cell_type": "code",
   "execution_count": 5,
   "metadata": {},
   "outputs": [],
   "source": [
    "X, y = make_blobs(n_samples=100, centers=3, n_features=2)"
   ]
  },
  {
   "cell_type": "code",
   "execution_count": 6,
   "metadata": {
    "scrolled": true
   },
   "outputs": [
    {
     "data": {
      "text/plain": [
       "array([[  0.02872018,   1.24472439],\n",
       "       [ -8.6235104 ,  -9.61893517],\n",
       "       [-10.00785578,   7.54631244],\n",
       "       [  1.54433516,   1.39694812],\n",
       "       [ -1.27676736,  -0.09546236],\n",
       "       [-10.9846068 ,  -7.91594781],\n",
       "       [ -7.67471118,   9.09245157],\n",
       "       [ -8.75325629,   9.34975118],\n",
       "       [ -6.81425804,   6.94245047],\n",
       "       [ -7.30740241,   7.08233319],\n",
       "       [ -7.85567144,   8.07543838],\n",
       "       [ -9.30632085,   9.0107682 ],\n",
       "       [  0.06430601,  -1.18979884],\n",
       "       [ -9.81769493,  -7.39394006],\n",
       "       [ -7.20387596,  -8.86847447],\n",
       "       [  0.56960494,  -1.31361798],\n",
       "       [  0.98962949,  -1.53272882],\n",
       "       [ -8.58903083,   8.27336284],\n",
       "       [ -8.45092366,   8.28403568],\n",
       "       [ -9.77975863,  -7.35298161],\n",
       "       [ -8.96897184,  -7.39526424],\n",
       "       [ -2.31889576,   0.14434802],\n",
       "       [ -8.05423566,   8.76114957],\n",
       "       [ -1.96023659,  -1.91735858],\n",
       "       [ -9.61098012,  -8.01318029],\n",
       "       [ -7.17255439,   8.64748026],\n",
       "       [ -9.02885918,   9.39020777],\n",
       "       [ -8.012321  ,   8.89542678],\n",
       "       [ -8.8118474 ,  -9.07700892],\n",
       "       [ -8.90386755,   7.35706055],\n",
       "       [ -9.3165855 ,  -7.40065994],\n",
       "       [ -8.71031099,   5.96162794],\n",
       "       [ -1.66001331,   0.03088004],\n",
       "       [-10.96225769,   8.03362961],\n",
       "       [ -0.52657657,  -1.64636628],\n",
       "       [ -0.42390704,  -0.45881386],\n",
       "       [-10.22334973,  -6.34750076],\n",
       "       [ -9.37279975,   7.3155922 ],\n",
       "       [  0.02505714,  -0.55103476],\n",
       "       [ -9.46179242,  -9.41263148],\n",
       "       [ -8.03590069,  -9.15757155],\n",
       "       [ -9.27966671,  -9.26759411],\n",
       "       [ -9.20785505,   5.93826282],\n",
       "       [ -7.47015402,   9.40165153],\n",
       "       [ -8.73814956,   8.22634416],\n",
       "       [ -2.23395523,   0.03080654],\n",
       "       [ -8.07271767,   6.43461186],\n",
       "       [-10.04426514,  -8.16083839],\n",
       "       [-11.32118458,  -6.43311108],\n",
       "       [ -7.39635677,   5.80489627],\n",
       "       [  0.27709163,  -0.76925816],\n",
       "       [-10.38590754,  -6.59023495],\n",
       "       [ -9.7321266 ,   9.15415729],\n",
       "       [ -8.88409158,  -8.29107128],\n",
       "       [ -5.64588881,   7.79668729],\n",
       "       [  0.52414383,  -0.93878298],\n",
       "       [  0.21326947,  -2.35945122],\n",
       "       [ -9.17175113,   9.89320872],\n",
       "       [ -8.90003497,  -8.35001671],\n",
       "       [ -9.1418329 ,   8.27085149],\n",
       "       [  0.40636154,   0.1074923 ],\n",
       "       [ -8.76781391,  -8.13406343],\n",
       "       [ -9.36667035,  -7.497719  ],\n",
       "       [ -8.31136174,   8.43294929],\n",
       "       [ -1.72590241,   1.83638152],\n",
       "       [ -9.34933407,  -6.63161031],\n",
       "       [ -7.94473169,   8.16556727],\n",
       "       [ -0.07851941,   0.25511238],\n",
       "       [ -0.96569774,   0.25443284],\n",
       "       [ -8.63261214,  -7.71810431],\n",
       "       [-11.27733445,  -8.60500686],\n",
       "       [ -7.9165926 ,   9.08655144],\n",
       "       [ -8.32699935,  -6.87027275],\n",
       "       [ -9.45051983,  -8.17423717],\n",
       "       [ -9.02210236,  -8.36141962],\n",
       "       [  0.70685645,  -1.02002198],\n",
       "       [ -9.72352353,  -9.5221031 ],\n",
       "       [ -0.87034818,  -0.0677701 ],\n",
       "       [  0.16301816,  -1.57189517],\n",
       "       [ -8.90544714,  -7.98032358],\n",
       "       [ -0.3092452 ,  -1.19239435],\n",
       "       [ -8.30596198,   8.23497473],\n",
       "       [ -9.94976644,  -8.20498771],\n",
       "       [  0.34841014,   0.6404021 ],\n",
       "       [ -8.62520849,   6.85893583],\n",
       "       [  1.39877768,  -0.53016875],\n",
       "       [ -8.89728284,   8.30159493],\n",
       "       [  1.96601193,  -0.25128259],\n",
       "       [  0.39920328,  -0.72513674],\n",
       "       [ -2.38880044,  -0.86274627],\n",
       "       [  0.47190131,   0.29090912],\n",
       "       [-10.29900326,  -7.35155741],\n",
       "       [ -8.73663574,  -7.85825789],\n",
       "       [ -8.42877598,   7.16423643],\n",
       "       [  1.85121959,  -1.34893989],\n",
       "       [ -8.99382122,   9.23893941],\n",
       "       [ -0.15622254,  -1.99086702],\n",
       "       [ -8.36425892,  -9.11839067],\n",
       "       [-10.2533243 ,  -6.67733138],\n",
       "       [ -0.73777181,  -2.81134149]])"
      ]
     },
     "execution_count": 6,
     "metadata": {},
     "output_type": "execute_result"
    }
   ],
   "source": [
    "X"
   ]
  },
  {
   "cell_type": "code",
   "execution_count": 7,
   "metadata": {},
   "outputs": [
    {
     "data": {
      "text/plain": [
       "array([1, 2, 0, 1, 1, 2, 0, 0, 0, 0, 0, 0, 1, 2, 2, 1, 1, 0, 0, 2, 2, 1,\n",
       "       0, 1, 2, 0, 0, 0, 2, 0, 2, 0, 1, 0, 1, 1, 2, 0, 1, 2, 2, 2, 0, 0,\n",
       "       0, 1, 0, 2, 2, 0, 1, 2, 0, 2, 0, 1, 1, 0, 2, 0, 1, 2, 2, 0, 1, 2,\n",
       "       0, 1, 1, 2, 2, 0, 2, 2, 2, 1, 2, 1, 1, 2, 1, 0, 2, 1, 0, 1, 0, 1,\n",
       "       1, 1, 1, 2, 2, 0, 1, 0, 1, 2, 2, 1])"
      ]
     },
     "execution_count": 7,
     "metadata": {},
     "output_type": "execute_result"
    }
   ],
   "source": [
    "y"
   ]
  },
  {
   "cell_type": "markdown",
   "metadata": {},
   "source": [
    "Now we can go ahead and visualize the results as below:\n",
    "    \n",
    "```python\n",
    "# plot a scatter plot, color \n",
    "df = pd.DataFrame(dict(x=X[:,0], y=X[:,1], label=y))\n",
    "colors = {0:'red', 1:'blue', 2:'green'}\n",
    "fig, ax = pyplot.subplots()\n",
    "grouped = df.groupby('label')\n",
    "for key, group in grouped:\n",
    "    group.plot(ax=ax, kind='scatter', x='x', y='y', label=key, color=colors[key])\n",
    "plt.show()\n",
    "```\n",
    "    "
   ]
  },
  {
   "cell_type": "code",
   "execution_count": 14,
   "metadata": {
    "scrolled": true
   },
   "outputs": [
    {
     "data": {
      "text/html": [
       "<div>\n",
       "<style scoped>\n",
       "    .dataframe tbody tr th:only-of-type {\n",
       "        vertical-align: middle;\n",
       "    }\n",
       "\n",
       "    .dataframe tbody tr th {\n",
       "        vertical-align: top;\n",
       "    }\n",
       "\n",
       "    .dataframe thead th {\n",
       "        text-align: right;\n",
       "    }\n",
       "</style>\n",
       "<table border=\"1\" class=\"dataframe\">\n",
       "  <thead>\n",
       "    <tr style=\"text-align: right;\">\n",
       "      <th></th>\n",
       "      <th>x</th>\n",
       "      <th>y</th>\n",
       "      <th>label</th>\n",
       "    </tr>\n",
       "  </thead>\n",
       "  <tbody>\n",
       "    <tr>\n",
       "      <th>0</th>\n",
       "      <td>1.324584</td>\n",
       "      <td>-4.951512</td>\n",
       "      <td>0</td>\n",
       "    </tr>\n",
       "    <tr>\n",
       "      <th>1</th>\n",
       "      <td>8.507321</td>\n",
       "      <td>-1.897074</td>\n",
       "      <td>1</td>\n",
       "    </tr>\n",
       "    <tr>\n",
       "      <th>2</th>\n",
       "      <td>1.460997</td>\n",
       "      <td>-3.985638</td>\n",
       "      <td>0</td>\n",
       "    </tr>\n",
       "    <tr>\n",
       "      <th>3</th>\n",
       "      <td>5.566920</td>\n",
       "      <td>-3.734376</td>\n",
       "      <td>1</td>\n",
       "    </tr>\n",
       "    <tr>\n",
       "      <th>4</th>\n",
       "      <td>2.800787</td>\n",
       "      <td>-3.497644</td>\n",
       "      <td>0</td>\n",
       "    </tr>\n",
       "    <tr>\n",
       "      <th>5</th>\n",
       "      <td>7.633666</td>\n",
       "      <td>-4.404194</td>\n",
       "      <td>1</td>\n",
       "    </tr>\n",
       "    <tr>\n",
       "      <th>6</th>\n",
       "      <td>1.900508</td>\n",
       "      <td>-4.598214</td>\n",
       "      <td>0</td>\n",
       "    </tr>\n",
       "    <tr>\n",
       "      <th>7</th>\n",
       "      <td>0.928385</td>\n",
       "      <td>-3.517121</td>\n",
       "      <td>0</td>\n",
       "    </tr>\n",
       "    <tr>\n",
       "      <th>8</th>\n",
       "      <td>5.538657</td>\n",
       "      <td>-5.670916</td>\n",
       "      <td>1</td>\n",
       "    </tr>\n",
       "    <tr>\n",
       "      <th>9</th>\n",
       "      <td>-0.322671</td>\n",
       "      <td>0.107198</td>\n",
       "      <td>2</td>\n",
       "    </tr>\n",
       "    <tr>\n",
       "      <th>10</th>\n",
       "      <td>0.062177</td>\n",
       "      <td>-1.414021</td>\n",
       "      <td>2</td>\n",
       "    </tr>\n",
       "    <tr>\n",
       "      <th>11</th>\n",
       "      <td>6.776187</td>\n",
       "      <td>-4.256925</td>\n",
       "      <td>1</td>\n",
       "    </tr>\n",
       "    <tr>\n",
       "      <th>12</th>\n",
       "      <td>8.105332</td>\n",
       "      <td>-2.869217</td>\n",
       "      <td>1</td>\n",
       "    </tr>\n",
       "    <tr>\n",
       "      <th>13</th>\n",
       "      <td>6.322181</td>\n",
       "      <td>-4.907390</td>\n",
       "      <td>1</td>\n",
       "    </tr>\n",
       "    <tr>\n",
       "      <th>14</th>\n",
       "      <td>0.392789</td>\n",
       "      <td>-0.958307</td>\n",
       "      <td>2</td>\n",
       "    </tr>\n",
       "    <tr>\n",
       "      <th>15</th>\n",
       "      <td>1.137923</td>\n",
       "      <td>-4.985312</td>\n",
       "      <td>0</td>\n",
       "    </tr>\n",
       "    <tr>\n",
       "      <th>16</th>\n",
       "      <td>-0.074894</td>\n",
       "      <td>0.873114</td>\n",
       "      <td>2</td>\n",
       "    </tr>\n",
       "    <tr>\n",
       "      <th>17</th>\n",
       "      <td>1.485481</td>\n",
       "      <td>-3.362848</td>\n",
       "      <td>0</td>\n",
       "    </tr>\n",
       "    <tr>\n",
       "      <th>18</th>\n",
       "      <td>-1.475725</td>\n",
       "      <td>2.107590</td>\n",
       "      <td>2</td>\n",
       "    </tr>\n",
       "    <tr>\n",
       "      <th>19</th>\n",
       "      <td>-0.469445</td>\n",
       "      <td>-0.221888</td>\n",
       "      <td>2</td>\n",
       "    </tr>\n",
       "    <tr>\n",
       "      <th>20</th>\n",
       "      <td>-0.770313</td>\n",
       "      <td>-0.946602</td>\n",
       "      <td>2</td>\n",
       "    </tr>\n",
       "    <tr>\n",
       "      <th>21</th>\n",
       "      <td>1.074799</td>\n",
       "      <td>-5.076595</td>\n",
       "      <td>0</td>\n",
       "    </tr>\n",
       "    <tr>\n",
       "      <th>22</th>\n",
       "      <td>-2.577333</td>\n",
       "      <td>-1.254099</td>\n",
       "      <td>2</td>\n",
       "    </tr>\n",
       "    <tr>\n",
       "      <th>23</th>\n",
       "      <td>-0.510683</td>\n",
       "      <td>-0.271487</td>\n",
       "      <td>2</td>\n",
       "    </tr>\n",
       "    <tr>\n",
       "      <th>24</th>\n",
       "      <td>5.610959</td>\n",
       "      <td>-3.974900</td>\n",
       "      <td>1</td>\n",
       "    </tr>\n",
       "    <tr>\n",
       "      <th>25</th>\n",
       "      <td>1.437694</td>\n",
       "      <td>-5.832644</td>\n",
       "      <td>0</td>\n",
       "    </tr>\n",
       "    <tr>\n",
       "      <th>26</th>\n",
       "      <td>7.758349</td>\n",
       "      <td>-3.054060</td>\n",
       "      <td>1</td>\n",
       "    </tr>\n",
       "    <tr>\n",
       "      <th>27</th>\n",
       "      <td>2.202861</td>\n",
       "      <td>-4.898160</td>\n",
       "      <td>0</td>\n",
       "    </tr>\n",
       "    <tr>\n",
       "      <th>28</th>\n",
       "      <td>0.934347</td>\n",
       "      <td>-3.205556</td>\n",
       "      <td>0</td>\n",
       "    </tr>\n",
       "    <tr>\n",
       "      <th>29</th>\n",
       "      <td>0.800962</td>\n",
       "      <td>-3.933768</td>\n",
       "      <td>0</td>\n",
       "    </tr>\n",
       "    <tr>\n",
       "      <th>30</th>\n",
       "      <td>1.869102</td>\n",
       "      <td>-4.555342</td>\n",
       "      <td>0</td>\n",
       "    </tr>\n",
       "    <tr>\n",
       "      <th>31</th>\n",
       "      <td>-1.326813</td>\n",
       "      <td>1.151428</td>\n",
       "      <td>2</td>\n",
       "    </tr>\n",
       "    <tr>\n",
       "      <th>32</th>\n",
       "      <td>-0.306810</td>\n",
       "      <td>0.211465</td>\n",
       "      <td>2</td>\n",
       "    </tr>\n",
       "    <tr>\n",
       "      <th>33</th>\n",
       "      <td>7.527759</td>\n",
       "      <td>-4.259787</td>\n",
       "      <td>1</td>\n",
       "    </tr>\n",
       "    <tr>\n",
       "      <th>34</th>\n",
       "      <td>-0.061365</td>\n",
       "      <td>-0.649063</td>\n",
       "      <td>2</td>\n",
       "    </tr>\n",
       "    <tr>\n",
       "      <th>35</th>\n",
       "      <td>1.688991</td>\n",
       "      <td>-4.456335</td>\n",
       "      <td>0</td>\n",
       "    </tr>\n",
       "    <tr>\n",
       "      <th>36</th>\n",
       "      <td>0.409256</td>\n",
       "      <td>0.296493</td>\n",
       "      <td>2</td>\n",
       "    </tr>\n",
       "    <tr>\n",
       "      <th>37</th>\n",
       "      <td>-0.156639</td>\n",
       "      <td>0.394255</td>\n",
       "      <td>2</td>\n",
       "    </tr>\n",
       "    <tr>\n",
       "      <th>38</th>\n",
       "      <td>2.381838</td>\n",
       "      <td>-4.324237</td>\n",
       "      <td>0</td>\n",
       "    </tr>\n",
       "    <tr>\n",
       "      <th>39</th>\n",
       "      <td>6.332960</td>\n",
       "      <td>-5.137216</td>\n",
       "      <td>1</td>\n",
       "    </tr>\n",
       "    <tr>\n",
       "      <th>40</th>\n",
       "      <td>1.535052</td>\n",
       "      <td>1.060468</td>\n",
       "      <td>2</td>\n",
       "    </tr>\n",
       "    <tr>\n",
       "      <th>41</th>\n",
       "      <td>-2.258711</td>\n",
       "      <td>-0.704974</td>\n",
       "      <td>2</td>\n",
       "    </tr>\n",
       "    <tr>\n",
       "      <th>42</th>\n",
       "      <td>2.489734</td>\n",
       "      <td>-3.878606</td>\n",
       "      <td>0</td>\n",
       "    </tr>\n",
       "    <tr>\n",
       "      <th>43</th>\n",
       "      <td>1.487119</td>\n",
       "      <td>-4.324117</td>\n",
       "      <td>0</td>\n",
       "    </tr>\n",
       "    <tr>\n",
       "      <th>44</th>\n",
       "      <td>2.252996</td>\n",
       "      <td>-4.953827</td>\n",
       "      <td>0</td>\n",
       "    </tr>\n",
       "    <tr>\n",
       "      <th>45</th>\n",
       "      <td>7.719840</td>\n",
       "      <td>-5.137804</td>\n",
       "      <td>1</td>\n",
       "    </tr>\n",
       "    <tr>\n",
       "      <th>46</th>\n",
       "      <td>0.552313</td>\n",
       "      <td>-0.023970</td>\n",
       "      <td>2</td>\n",
       "    </tr>\n",
       "    <tr>\n",
       "      <th>47</th>\n",
       "      <td>2.507724</td>\n",
       "      <td>-2.906313</td>\n",
       "      <td>0</td>\n",
       "    </tr>\n",
       "    <tr>\n",
       "      <th>48</th>\n",
       "      <td>5.637720</td>\n",
       "      <td>-2.687134</td>\n",
       "      <td>1</td>\n",
       "    </tr>\n",
       "    <tr>\n",
       "      <th>49</th>\n",
       "      <td>1.154034</td>\n",
       "      <td>-3.559250</td>\n",
       "      <td>0</td>\n",
       "    </tr>\n",
       "    <tr>\n",
       "      <th>50</th>\n",
       "      <td>6.758798</td>\n",
       "      <td>-4.803495</td>\n",
       "      <td>1</td>\n",
       "    </tr>\n",
       "    <tr>\n",
       "      <th>52</th>\n",
       "      <td>0.537837</td>\n",
       "      <td>-0.527181</td>\n",
       "      <td>2</td>\n",
       "    </tr>\n",
       "    <tr>\n",
       "      <th>53</th>\n",
       "      <td>0.717976</td>\n",
       "      <td>0.186963</td>\n",
       "      <td>2</td>\n",
       "    </tr>\n",
       "    <tr>\n",
       "      <th>54</th>\n",
       "      <td>6.079991</td>\n",
       "      <td>-2.600128</td>\n",
       "      <td>1</td>\n",
       "    </tr>\n",
       "    <tr>\n",
       "      <th>56</th>\n",
       "      <td>-0.375061</td>\n",
       "      <td>-0.123028</td>\n",
       "      <td>2</td>\n",
       "    </tr>\n",
       "    <tr>\n",
       "      <th>58</th>\n",
       "      <td>7.002232</td>\n",
       "      <td>-4.700010</td>\n",
       "      <td>1</td>\n",
       "    </tr>\n",
       "    <tr>\n",
       "      <th>59</th>\n",
       "      <td>5.585506</td>\n",
       "      <td>-4.550935</td>\n",
       "      <td>1</td>\n",
       "    </tr>\n",
       "    <tr>\n",
       "      <th>60</th>\n",
       "      <td>8.992329</td>\n",
       "      <td>-4.360279</td>\n",
       "      <td>1</td>\n",
       "    </tr>\n",
       "    <tr>\n",
       "      <th>61</th>\n",
       "      <td>6.211696</td>\n",
       "      <td>-4.882141</td>\n",
       "      <td>1</td>\n",
       "    </tr>\n",
       "    <tr>\n",
       "      <th>63</th>\n",
       "      <td>7.104212</td>\n",
       "      <td>-2.912244</td>\n",
       "      <td>1</td>\n",
       "    </tr>\n",
       "  </tbody>\n",
       "</table>\n",
       "</div>"
      ],
      "text/plain": [
       "           x         y  label\n",
       "0   1.324584 -4.951512      0\n",
       "1   8.507321 -1.897074      1\n",
       "2   1.460997 -3.985638      0\n",
       "3   5.566920 -3.734376      1\n",
       "4   2.800787 -3.497644      0\n",
       "5   7.633666 -4.404194      1\n",
       "6   1.900508 -4.598214      0\n",
       "7   0.928385 -3.517121      0\n",
       "8   5.538657 -5.670916      1\n",
       "9  -0.322671  0.107198      2\n",
       "10  0.062177 -1.414021      2\n",
       "11  6.776187 -4.256925      1\n",
       "12  8.105332 -2.869217      1\n",
       "13  6.322181 -4.907390      1\n",
       "14  0.392789 -0.958307      2\n",
       "15  1.137923 -4.985312      0\n",
       "16 -0.074894  0.873114      2\n",
       "17  1.485481 -3.362848      0\n",
       "18 -1.475725  2.107590      2\n",
       "19 -0.469445 -0.221888      2\n",
       "20 -0.770313 -0.946602      2\n",
       "21  1.074799 -5.076595      0\n",
       "22 -2.577333 -1.254099      2\n",
       "23 -0.510683 -0.271487      2\n",
       "24  5.610959 -3.974900      1\n",
       "25  1.437694 -5.832644      0\n",
       "26  7.758349 -3.054060      1\n",
       "27  2.202861 -4.898160      0\n",
       "28  0.934347 -3.205556      0\n",
       "29  0.800962 -3.933768      0\n",
       "30  1.869102 -4.555342      0\n",
       "31 -1.326813  1.151428      2\n",
       "32 -0.306810  0.211465      2\n",
       "33  7.527759 -4.259787      1\n",
       "34 -0.061365 -0.649063      2\n",
       "35  1.688991 -4.456335      0\n",
       "36  0.409256  0.296493      2\n",
       "37 -0.156639  0.394255      2\n",
       "38  2.381838 -4.324237      0\n",
       "39  6.332960 -5.137216      1\n",
       "40  1.535052  1.060468      2\n",
       "41 -2.258711 -0.704974      2\n",
       "42  2.489734 -3.878606      0\n",
       "43  1.487119 -4.324117      0\n",
       "44  2.252996 -4.953827      0\n",
       "45  7.719840 -5.137804      1\n",
       "46  0.552313 -0.023970      2\n",
       "47  2.507724 -2.906313      0\n",
       "48  5.637720 -2.687134      1\n",
       "49  1.154034 -3.559250      0\n",
       "50  6.758798 -4.803495      1\n",
       "52  0.537837 -0.527181      2\n",
       "53  0.717976  0.186963      2\n",
       "54  6.079991 -2.600128      1\n",
       "56 -0.375061 -0.123028      2\n",
       "58  7.002232 -4.700010      1\n",
       "59  5.585506 -4.550935      1\n",
       "60  8.992329 -4.360279      1\n",
       "61  6.211696 -4.882141      1\n",
       "63  7.104212 -2.912244      1"
      ]
     },
     "execution_count": 14,
     "metadata": {},
     "output_type": "execute_result"
    }
   ],
   "source": [
    "grouped.head(20)"
   ]
  },
  {
   "cell_type": "code",
   "execution_count": 21,
   "metadata": {},
   "outputs": [
    {
     "data": {
      "image/png": "[encoded data removed]",
      "text/plain": [
       "<Figure size 432x288 with 1 Axes>"
      ]
     },
     "metadata": {
      "needs_background": "light"
     },
     "output_type": "display_data"
    }
   ],
   "source": [
    "# Code here \n",
    "df = pd.DataFrame(dict(x=X[:,0], y=X[:,1], label=y))\n",
    "colors = {0:'red', 1:'blue', 2:'green'}\n",
    "fig, ax = plt.subplots()\n",
    "grouped = df.groupby('label')\n",
    "for key, group in grouped:\n",
    "#     print(group)\n",
    "    group.plot(ax=ax, kind='scatter', x='x', y='y', label=key, color=colors[key])\n",
    "plt.show()"
   ]
  },
  {
   "cell_type": "code",
   "execution_count": 22,
   "metadata": {},
   "outputs": [],
   "source": [
    "# df = pd.DataFrame(dict(x=X[:,0], y=X[:,1], label=y))\n",
    "# colors = {0:'red', 1:'blue', 2:'green'}\n",
    "# fig, ax = plt.subplots()\n",
    "# # grouped = df.groupby('label')\n",
    "# for key, group in df:\n",
    "# #     print(group)\n",
    "#     group.plot(ax=ax, kind='scatter', x='x', y='y', label=key, color=colors[key])\n",
    "# plt.show()"
   ]
  },
  {
   "cell_type": "markdown",
   "metadata": {},
   "source": [
    "So above we see three different classes. We can generate any number of classes from above. This dataset can be used with a number of classifiers to see how accurately they perform. "
   ]
  },
  {
   "cell_type": "markdown",
   "metadata": {},
   "source": [
    "## `make_moons()`"
   ]
  },
  {
   "cell_type": "markdown",
   "metadata": {},
   "source": [
    "This function is used for binary classification problems with two classes and generates moon shaped patterns. This function allows you to create dataset and specify the level of noise in the data. That helps you make the dataset more complex if required to test the robustness of an algorithm . This is how you import this function from sklearn :\n",
    "```python\n",
    "from sklearn.datasets import make_moons\n",
    "X, y = make_moons(n_samples=100, noise=0.1)\n",
    "```\n"
   ]
  },
  {
   "cell_type": "code",
   "execution_count": 23,
   "metadata": {},
   "outputs": [],
   "source": [
    "# Code here \n",
    "from sklearn.datasets import make_moons\n",
    "X, y = make_moons(n_samples=100, noise=0.1)"
   ]
  },
  {
   "cell_type": "code",
   "execution_count": 24,
   "metadata": {
    "scrolled": true
   },
   "outputs": [
    {
     "data": {
      "text/plain": [
       "array([[ 1.06827325e+00,  3.50231177e-01],\n",
       "       [-2.15655594e-01,  8.63277948e-01],\n",
       "       [-1.19744761e+00, -2.61126656e-02],\n",
       "       [ 1.81001080e+00, -6.19441645e-02],\n",
       "       [ 5.37242525e-01,  7.26775139e-01],\n",
       "       [ 8.12064074e-01,  4.09957384e-01],\n",
       "       [-1.60245234e-01,  1.09018026e+00],\n",
       "       [-7.27522120e-02,  3.46394825e-01],\n",
       "       [ 1.48177422e+00, -2.76251087e-01],\n",
       "       [ 9.25572890e-02,  8.37094369e-01],\n",
       "       [ 8.55702596e-01,  4.79098434e-01],\n",
       "       [ 5.37875275e-01,  1.02733001e+00],\n",
       "       [-1.10072644e+00,  4.80039795e-01],\n",
       "       [-4.24962357e-01,  7.68143021e-01],\n",
       "       [ 8.71477014e-01, -3.89970730e-01],\n",
       "       [-4.33293190e-01,  1.03648307e+00],\n",
       "       [-7.87584838e-01,  6.52762455e-01],\n",
       "       [-7.68833303e-01,  5.82491890e-01],\n",
       "       [ 9.88946295e-01, -3.69867792e-01],\n",
       "       [ 6.12313620e-01, -3.47271773e-01],\n",
       "       [ 1.54972696e-01,  6.00582251e-02],\n",
       "       [ 8.73328400e-01,  3.61413281e-01],\n",
       "       [ 8.50937697e-01,  6.73045930e-01],\n",
       "       [ 9.74751508e-02,  1.09319582e+00],\n",
       "       [-9.64860211e-01,  1.77686654e-01],\n",
       "       [ 9.72797105e-01,  1.36114338e-01],\n",
       "       [ 2.40736451e-01,  8.54741465e-01],\n",
       "       [ 1.38471057e+00, -4.61468102e-01],\n",
       "       [-9.16208388e-01,  4.04326552e-01],\n",
       "       [-7.53576676e-01,  6.43235209e-01],\n",
       "       [ 2.42548576e-01,  8.91019812e-01],\n",
       "       [ 1.28406330e+00, -2.92471352e-01],\n",
       "       [-8.65711022e-01,  3.42300177e-01],\n",
       "       [ 3.12236518e-01, -1.10734395e-01],\n",
       "       [ 1.22609125e-01,  3.87192500e-01],\n",
       "       [ 1.94847661e+00, -8.93113951e-02],\n",
       "       [ 1.40430356e+00, -3.25984608e-01],\n",
       "       [ 2.09077496e+00,  4.43561720e-01],\n",
       "       [-6.85397895e-01,  7.68327928e-01],\n",
       "       [ 7.55588623e-01, -3.66742277e-01],\n",
       "       [ 4.63388861e-01,  7.64312691e-01],\n",
       "       [ 7.11389082e-01,  7.53501302e-01],\n",
       "       [ 1.84950184e+00, -4.38900612e-01],\n",
       "       [ 8.99440459e-01, -4.07285064e-01],\n",
       "       [ 1.16796940e+00, -3.64039986e-01],\n",
       "       [-8.98082743e-02,  9.27430258e-02],\n",
       "       [ 2.70340310e-01, -8.79517959e-04],\n",
       "       [ 1.82262003e+00, -2.10666273e-03],\n",
       "       [ 1.14574101e+00, -3.79773176e-01],\n",
       "       [ 3.34817935e-01, -3.45547560e-01],\n",
       "       [ 1.10865129e+00,  1.74615711e-01],\n",
       "       [ 8.41072991e-01,  4.02281909e-01],\n",
       "       [-3.71995585e-01,  9.04800506e-01],\n",
       "       [ 1.86161417e+00,  2.05200768e-01],\n",
       "       [ 1.77078640e+00,  2.01507801e-01],\n",
       "       [-5.43394813e-03,  7.65385915e-01],\n",
       "       [ 2.65694845e-01,  8.93340082e-01],\n",
       "       [ 1.39569849e+00, -3.38265539e-01],\n",
       "       [-6.80516660e-01,  9.02146332e-01],\n",
       "       [ 1.74215931e+00,  5.30513612e-01],\n",
       "       [-4.28137435e-01,  8.72670222e-01],\n",
       "       [ 6.32534643e-01,  6.12495252e-01],\n",
       "       [-4.22310092e-01,  1.00678433e+00],\n",
       "       [-5.82665089e-01,  8.91986183e-01],\n",
       "       [ 1.36666199e-01, -1.29300538e-01],\n",
       "       [ 1.08353858e+00,  3.79878623e-02],\n",
       "       [ 1.35529057e+00, -4.83127937e-01],\n",
       "       [ 1.99657003e+00,  9.53490010e-02],\n",
       "       [-1.06849484e+00,  1.75173136e-01],\n",
       "       [-9.42660704e-01, -1.36569424e-01],\n",
       "       [-6.46718999e-04,  6.44759947e-01],\n",
       "       [ 1.75639166e+00, -9.59243913e-03],\n",
       "       [ 2.10915278e+00,  4.04374422e-01],\n",
       "       [ 3.58519690e-01, -2.07073966e-01],\n",
       "       [-7.78946156e-01,  3.81825812e-01],\n",
       "       [-3.92511122e-02,  6.01120333e-02],\n",
       "       [ 1.98019139e+00,  3.83655354e-01],\n",
       "       [ 5.24483253e-01,  8.77795138e-01],\n",
       "       [ 2.95279189e-02,  9.04430603e-01],\n",
       "       [ 1.79939746e+00, -7.54493168e-02],\n",
       "       [ 9.62788548e-02,  1.09128877e-03],\n",
       "       [ 1.27231036e+00, -3.93152199e-01],\n",
       "       [-1.16163144e+00,  1.59180918e-01],\n",
       "       [ 8.41471692e-01, -4.70872389e-01],\n",
       "       [ 4.21898880e-01, -1.29386876e-01],\n",
       "       [ 6.52600102e-01, -3.18698844e-01],\n",
       "       [-4.63599302e-03,  4.29059459e-01],\n",
       "       [ 8.20397748e-01,  5.43607116e-01],\n",
       "       [ 1.46502122e+00, -4.10370955e-01],\n",
       "       [ 1.08999412e+00,  1.91999636e-01],\n",
       "       [ 6.02501442e-01, -3.35785584e-01],\n",
       "       [ 6.24975966e-01, -3.93406023e-01],\n",
       "       [ 1.53338101e-01,  3.74853402e-01],\n",
       "       [ 5.30221477e-01, -3.27941987e-01],\n",
       "       [-9.64033631e-01,  2.32844208e-01],\n",
       "       [ 8.18464104e-01,  7.57414907e-01],\n",
       "       [-3.06748839e-01,  1.07232855e+00],\n",
       "       [ 2.11058021e+00,  3.76943960e-01],\n",
       "       [ 1.89359064e+00, -4.24763028e-01],\n",
       "       [ 3.74619777e-01,  9.38109742e-01]])"
      ]
     },
     "execution_count": 24,
     "metadata": {},
     "output_type": "execute_result"
    }
   ],
   "source": [
    "X"
   ]
  },
  {
   "cell_type": "markdown",
   "metadata": {},
   "source": [
    "Now we can simply use the code from last example for visualization of the data "
   ]
  },
  {
   "cell_type": "code",
   "execution_count": 25,
   "metadata": {},
   "outputs": [
    {
     "data": {
      "image/png": "[encoded data removed]",
      "text/plain": [
       "<Figure size 432x288 with 1 Axes>"
      ]
     },
     "metadata": {
      "needs_background": "light"
     },
     "output_type": "display_data"
    }
   ],
   "source": [
    "# Code here \n",
    "df = pd.DataFrame(dict(x=X[:,0], y=X[:,1], label=y))\n",
    "colors = {0:'red', 1:'blue', 2:'green'}\n",
    "fig, ax = plt.subplots()\n",
    "grouped = df.groupby('label')\n",
    "for key, group in grouped:\n",
    "#     print(group)\n",
    "    group.plot(ax=ax, kind='scatter', x='x', y='y', label=key, color=colors[key])\n",
    "plt.show()"
   ]
  },
  {
   "cell_type": "code",
   "execution_count": 2,
   "metadata": {},
   "outputs": [
    {
     "data": {
      "image/png": "[encoded data removed]",
      "text/plain": [
       "<matplotlib.figure.Figure at 0x1a139fab00>"
      ]
     },
     "metadata": {},
     "output_type": "display_data"
    }
   ],
   "source": [
    "# # Code here \n",
    "# df = pd.DataFrame(dict(x=X[:,0], y=X[:,1], label=y))\n",
    "# colors = {0:'red', 1:'blue', 2:'green'}\n",
    "# fig, ax = plt.subplots()\n",
    "# grouped = df.groupby('label')\n",
    "# for key, group in grouped:\n",
    "# #     print(group)\n",
    "#     group.plot(ax=ax, kind='scatter', x='x', y='y', label=key, color=colors[key])\n",
    "# plt.show()"
   ]
  },
  {
   "cell_type": "markdown",
   "metadata": {},
   "source": [
    "The noise parameter controls the shape of the data generated , Give it different values from 0 to 1 above and inspect the outcome. 0 noise would generate perfect moon shapes and 1 would be just noise and no underlying pattern. We can also see that this pattern is not \"linearly separable\" i.e. we can not draw a straight line to separate classes, this helps us try our non linear classification functions (like sigmoid and tanh etc.) "
   ]
  },
  {
   "cell_type": "markdown",
   "metadata": {},
   "source": [
    " ## `make_circles()` "
   ]
  },
  {
   "cell_type": "markdown",
   "metadata": {},
   "source": [
    "This function further complicates the generated data and creates values in form of concentric circles. It also features a noise parameter , similar to make_moons(). Below is how you import this function.  \n",
    "```python\n",
    "from sklearn.datasets import make_circles\n",
    "X, y = make_circles(n_samples=100, noise=0.05)\n",
    "```"
   ]
  },
  {
   "cell_type": "code",
   "execution_count": 26,
   "metadata": {},
   "outputs": [],
   "source": [
    "# Code here \n",
    "from sklearn.datasets import make_circles\n",
    "X, y = make_circles(n_samples=100, noise=0.05)"
   ]
  },
  {
   "cell_type": "markdown",
   "metadata": {},
   "source": [
    "Bring in the plotting code from previous examples"
   ]
  },
  {
   "cell_type": "code",
   "execution_count": 27,
   "metadata": {},
   "outputs": [
    {
     "data": {
      "image/png": "[encoded data removed]",
      "text/plain": [
       "<Figure size 432x288 with 1 Axes>"
      ]
     },
     "metadata": {
      "needs_background": "light"
     },
     "output_type": "display_data"
    }
   ],
   "source": [
    "# Code here \n",
    "df = pd.DataFrame(dict(x=X[:,0], y=X[:,1], label=y))\n",
    "colors = {0:'red', 1:'blue', 2:'green'}\n",
    "fig, ax = plt.subplots()\n",
    "grouped = df.groupby('label')\n",
    "for key, group in grouped:\n",
    "#     print(group)\n",
    "    group.plot(ax=ax, kind='scatter', x='x', y='y', label=key, color=colors[key])\n",
    "plt.show()"
   ]
  },
  {
   "cell_type": "markdown",
   "metadata": {},
   "source": [
    "This is also suitable for testing complex , non-linear classifiers. "
   ]
  },
  {
   "cell_type": "markdown",
   "metadata": {},
   "source": [
    " ## `make_regression()`"
   ]
  },
  {
   "cell_type": "markdown",
   "metadata": {},
   "source": [
    "This function allows you to create datasets which can be used to test regression algorithms for linear regression. Regression can be performed with a number of algorithms ranging from least squares to more advanced deep networks. We can create datasets by setting number of samples, number of input features, level of noise, and much more. Here is how we import this function:\n",
    "\n",
    "```python\n",
    "from sklearn.datasets import make_regression\n",
    "X, y = make_regression(n_samples=100, n_features=1, noise=0.1)\n",
    "\n",
    "# plot regression dataset\n",
    "plt.scatter(X,y)\n",
    "plt.show()\n",
    "\n",
    "```\n"
   ]
  },
  {
   "cell_type": "code",
   "execution_count": 4,
   "metadata": {},
   "outputs": [],
   "source": [
    "# Code here \n",
    "from sklearn.datasets import make_regression"
   ]
  },
  {
   "cell_type": "code",
   "execution_count": 20,
   "metadata": {},
   "outputs": [],
   "source": [
    "X, y = make_regression(n_samples=100, n_features=1, noise=5)"
   ]
  },
  {
   "cell_type": "code",
   "execution_count": 21,
   "metadata": {
    "scrolled": true
   },
   "outputs": [
    {
     "data": {
      "text/plain": [
       "array([[ 8.73712460e-01],\n",
       "       [ 9.52581715e-01],\n",
       "       [-2.62830935e-01],\n",
       "       [-5.95852480e-01],\n",
       "       [-1.37615526e-01],\n",
       "       [-7.77937922e-01],\n",
       "       [-6.10947637e-02],\n",
       "       [ 3.66146944e-01],\n",
       "       [ 8.16739668e-01],\n",
       "       [ 4.94920100e-01],\n",
       "       [-8.34005804e-01],\n",
       "       [ 5.29074771e-01],\n",
       "       [ 1.63101147e-01],\n",
       "       [-7.77010048e-01],\n",
       "       [ 9.30713623e-01],\n",
       "       [-9.20107858e-01],\n",
       "       [-6.51020183e-01],\n",
       "       [ 2.75313607e-01],\n",
       "       [ 8.38892288e-01],\n",
       "       [-1.81697394e+00],\n",
       "       [-5.93377792e-02],\n",
       "       [ 3.64493061e-01],\n",
       "       [-2.02137295e+00],\n",
       "       [ 1.22001888e-01],\n",
       "       [ 1.26799419e-04],\n",
       "       [-7.24293284e-01],\n",
       "       [ 2.67568564e-01],\n",
       "       [ 2.12190230e-01],\n",
       "       [-1.62356438e-01],\n",
       "       [-1.22872121e+00],\n",
       "       [-5.00934416e-01],\n",
       "       [ 1.38351763e-01],\n",
       "       [-1.32209898e-01],\n",
       "       [-8.42655256e-01],\n",
       "       [-1.86779906e+00],\n",
       "       [ 1.40392107e-01],\n",
       "       [ 1.78742823e+00],\n",
       "       [ 9.25815809e-01],\n",
       "       [-1.41873515e+00],\n",
       "       [ 4.67957658e-01],\n",
       "       [ 6.27548608e-01],\n",
       "       [ 1.81241432e-01],\n",
       "       [ 4.09395714e-01],\n",
       "       [-7.15795737e-01],\n",
       "       [-1.44525694e+00],\n",
       "       [-9.02301264e-01],\n",
       "       [ 2.75926739e-01],\n",
       "       [ 7.93952721e-01],\n",
       "       [ 1.00041803e+00],\n",
       "       [ 1.25448593e+00],\n",
       "       [-3.18637638e-01],\n",
       "       [-1.43707182e-01],\n",
       "       [-1.69452640e+00],\n",
       "       [ 1.38593230e+00],\n",
       "       [-7.55926972e-01],\n",
       "       [-2.12665784e-01],\n",
       "       [ 8.91122292e-01],\n",
       "       [-7.76782272e-01],\n",
       "       [-6.15550734e-01],\n",
       "       [-4.29099162e-02],\n",
       "       [ 6.95729756e-01],\n",
       "       [ 1.77101145e+00],\n",
       "       [-1.92816889e-01],\n",
       "       [-1.47641610e+00],\n",
       "       [ 9.25692672e-01],\n",
       "       [ 9.30814799e-01],\n",
       "       [ 5.28090070e-01],\n",
       "       [-8.47130177e-01],\n",
       "       [ 1.01189980e+00],\n",
       "       [ 1.10463700e-01],\n",
       "       [ 1.88483275e-01],\n",
       "       [ 1.18247142e+00],\n",
       "       [ 1.54708850e+00],\n",
       "       [ 2.58383664e-01],\n",
       "       [-4.43866689e-01],\n",
       "       [ 1.13091460e+00],\n",
       "       [-4.87215098e-01],\n",
       "       [-1.05653546e+00],\n",
       "       [ 1.23785494e+00],\n",
       "       [-5.76834340e-01],\n",
       "       [ 7.36607655e-02],\n",
       "       [-9.27229351e-02],\n",
       "       [-1.81949119e+00],\n",
       "       [ 7.63673884e-03],\n",
       "       [-8.47222351e-01],\n",
       "       [-1.64769855e+00],\n",
       "       [-1.83099652e+00],\n",
       "       [-6.46581825e-02],\n",
       "       [-2.76967339e-01],\n",
       "       [-8.54239011e-01],\n",
       "       [ 5.76823051e-04],\n",
       "       [ 2.26646135e-01],\n",
       "       [-1.29964700e+00],\n",
       "       [-1.70275888e+00],\n",
       "       [-1.29850376e+00],\n",
       "       [ 7.78953409e-01],\n",
       "       [-1.09636778e+00],\n",
       "       [-1.22361401e+00],\n",
       "       [-2.98303364e-01],\n",
       "       [ 4.67263817e-01]])"
      ]
     },
     "execution_count": 21,
     "metadata": {},
     "output_type": "execute_result"
    }
   ],
   "source": [
    "X"
   ]
  },
  {
   "cell_type": "code",
   "execution_count": 22,
   "metadata": {},
   "outputs": [
    {
     "data": {
      "image/png": "[encoded data removed]",
      "text/plain": [
       "<Figure size 432x288 with 1 Axes>"
      ]
     },
     "metadata": {
      "needs_background": "light"
     },
     "output_type": "display_data"
    }
   ],
   "source": [
    "plt.scatter(X,y)\n",
    "plt.show()"
   ]
  },
  {
   "cell_type": "code",
   "execution_count": 77,
   "metadata": {},
   "outputs": [
    {
     "data": {
      "image/png": "[encoded data removed]",
      "text/plain": [
       "<matplotlib.figure.Figure at 0x1a1cc81128>"
      ]
     },
     "metadata": {},
     "output_type": "display_data"
    }
   ],
   "source": [
    "# Code here "
   ]
  },
  {
   "cell_type": "markdown",
   "metadata": {},
   "source": [
    "We can further tweak the generated parameters to create non-linear relationships which can be solved using non-linear regression techniques. \n",
    "\n",
    "```python\n",
    "\n",
    "# Create a new y\n",
    "y2 = y**2\n",
    "y3 = y**3\n",
    "# plot regression dataset\n",
    "plt.scatter(X,y2)\n",
    "plt.show()\n",
    "plt.scatter(X,y3)\n",
    "plt.show()\n",
    "```"
   ]
  },
  {
   "cell_type": "code",
   "execution_count": 10,
   "metadata": {},
   "outputs": [
    {
     "data": {
      "image/png": "[encoded data removed]",
      "text/plain": [
       "<Figure size 432x288 with 1 Axes>"
      ]
     },
     "metadata": {
      "needs_background": "light"
     },
     "output_type": "display_data"
    },
    {
     "data": {
      "image/png": "[encoded data removed]",
      "text/plain": [
       "<Figure size 432x288 with 1 Axes>"
      ]
     },
     "metadata": {
      "needs_background": "light"
     },
     "output_type": "display_data"
    }
   ],
   "source": [
    "# Code here \n",
    "y2 = y**2\n",
    "y3 = y**3\n",
    "plt.scatter(X,y2)\n",
    "plt.show()\n",
    "plt.scatter(X,y3)\n",
    "plt.show()"
   ]
  },
  {
   "cell_type": "code",
   "execution_count": 84,
   "metadata": {},
   "outputs": [
    {
     "data": {
      "image/png": "[encoded data removed]",
      "text/plain": [
       "<matplotlib.figure.Figure at 0x1a1c987d30>"
      ]
     },
     "metadata": {},
     "output_type": "display_data"
    },
    {
     "data": {
      "image/png": "[encoded data removed]",
      "text/plain": [
       "<matplotlib.figure.Figure at 0x1a1ca319e8>"
      ]
     },
     "metadata": {},
     "output_type": "display_data"
    }
   ],
   "source": [
    "# Code here \n",
    "y2 = y**2\n",
    "y3 = y**3\n",
    "plt.scatter(X,y2)\n",
    "plt.show()\n",
    "plt.scatter(X,y3)\n",
    "plt.show()"
   ]
  },
  {
   "cell_type": "markdown",
   "metadata": {},
   "source": [
    "## Level up - Optional \n",
    "\n",
    "sklearn comes with a lot of data generation functions. We have seen a few popular ones in this context. Kindly visit [This link](https://scikit-learn.org/stable/datasets/index.html) and have a look at section 5.4 to get more practice with these functions and see other similar functions. "
   ]
  },
  {
   "cell_type": "markdown",
   "metadata": {},
   "source": [
    "## Summary \n",
    "\n",
    "In this lesson, we looked at generating random datasets for classification and regression tasks using sklearn's built in functions. We looked at some of the attributes for generating data and you are encouraged to dig deeper with the official doc. and see what else can you achieve with more parameters. While learning a new algorithm, these synthetic datasets help you take your focus off the domain and work only with the computational and performance aspects of the algorithm. "
   ]
  }
 ],
 "metadata": {
  "kernelspec": {
   "display_name": "Python 3",
   "language": "python",
   "name": "python3"
  },
  "language_info": {
   "codemirror_mode": {
    "name": "ipython",
    "version": 3
   },
   "file_extension": ".py",
   "mimetype": "text/x-python",
   "name": "python",
   "nbconvert_exporter": "python",
   "pygments_lexer": "ipython3",
   "version": "3.6.6"
  }
 },
 "nbformat": 4,
 "nbformat_minor": 2
}
